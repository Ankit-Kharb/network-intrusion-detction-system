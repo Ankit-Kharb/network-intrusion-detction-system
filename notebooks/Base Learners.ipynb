{
 "cells": [
  {
   "cell_type": "code",
   "execution_count": 1,
   "metadata": {
    "_cell_guid": "b1076dfc-b9ad-4769-8c92-a6c4dae69d19",
    "_uuid": "8f2839f25d086af736a60e9eeb907d3b93b6e0e5"
   },
   "outputs": [],
   "source": [
    "# This Python 3 environment comes with many helpful analytics libraries installed\n",
    "# It is defined by the kaggle/python docker image: https://github.com/kaggle/docker-python\n",
    "# For example, here's several helpful packages to load in \n",
    "\n",
    "import numpy as np # linear algebra\n",
    "import pandas as pd # data processing, CSV file I/O (e.g. pd.read_csv)\n",
    "\n",
    "# Input data files are available in the \"../input/\" directory.\n",
    "# For example, running this (by clicking run or pressing Shift+Enter) will list the files in the input directory\n",
    "\n",
    "# Any results you write to the current directory are saved as output."
   ]
  },
  {
   "cell_type": "code",
   "execution_count": 2,
   "metadata": {
    "_cell_guid": "79c7e3d0-c299-4dcb-8224-4455121ee9b0",
    "_uuid": "d629ff2d2480ee46fbb7e2d37f6b5fab8052498a"
   },
   "outputs": [],
   "source": [
    "import pandas as pd\n",
    "import numpy as np\n",
    "import matplotlib.pyplot as plt\n",
    "from sklearn.model_selection import train_test_split as tts\n",
    "from sklearn.preprocessing import LabelEncoder,OneHotEncoder"
   ]
  },
  {
   "cell_type": "code",
   "execution_count": 3,
   "metadata": {},
   "outputs": [],
   "source": [
    "col = ['duration','protocol_type', \n",
    "'service',\n",
    "'flag',\n",
    "'src_bytes',\n",
    "'dst_bytes',\n",
    "'land',\n",
    "'wrong_fragment',\n",
    "'urgent',\n",
    "'hot',\n",
    "'num_failed_logins',\n",
    "'logged_in',\n",
    "'num_compromised',\n",
    "'root_shell',\n",
    "'su_attempted',\n",
    "'num_root',\n",
    "'num_file_creations',\n",
    "'num_shells',\n",
    "'num_access_files',\n",
    "'num_outbound_cmds',\n",
    "'is_host_login',\n",
    "'is_guest_login', \n",
    "'count',\n",
    "'srv_count',\n",
    "'serror_rate',\n",
    "'srv_serror_rate',\n",
    "'rerror_rate',\n",
    "'srv_rerror_rate',\n",
    "'same_srv_rate',\n",
    "'diff_srv_rate',\n",
    "'srv_diff_host_rate',\n",
    "'dst_host_count',\n",
    "'dst_host_srv_count',\n",
    "'dst_host_same_srv_rate',\n",
    "'dst_host_diff_srv_rate',\n",
    "'dst_host_same_src_port_rate',\n",
    "'dst_host_srv_diff_host_rate',\n",
    "'dst_host_serror_rate',\n",
    "'dst_host_srv_serror_rate',\n",
    "'dst_host_rerror_rate',\n",
    "'dst_host_srv_rerror_rate',\n",
    "'target']"
   ]
  },
  {
   "cell_type": "code",
   "execution_count": 4,
   "metadata": {},
   "outputs": [],
   "source": [
    "info = pd.read_csv('../input/kdd.txt',names = col)"
   ]
  },
  {
   "cell_type": "code",
   "execution_count": 5,
   "metadata": {},
   "outputs": [
    {
     "data": {
      "text/html": [
       "<div>\n",
       "<style scoped>\n",
       "    .dataframe tbody tr th:only-of-type {\n",
       "        vertical-align: middle;\n",
       "    }\n",
       "\n",
       "    .dataframe tbody tr th {\n",
       "        vertical-align: top;\n",
       "    }\n",
       "\n",
       "    .dataframe thead th {\n",
       "        text-align: right;\n",
       "    }\n",
       "</style>\n",
       "<table border=\"1\" class=\"dataframe\">\n",
       "  <thead>\n",
       "    <tr style=\"text-align: right;\">\n",
       "      <th></th>\n",
       "      <th>duration</th>\n",
       "      <th>protocol_type</th>\n",
       "      <th>service</th>\n",
       "      <th>flag</th>\n",
       "      <th>src_bytes</th>\n",
       "      <th>dst_bytes</th>\n",
       "      <th>land</th>\n",
       "      <th>wrong_fragment</th>\n",
       "      <th>urgent</th>\n",
       "      <th>hot</th>\n",
       "      <th>...</th>\n",
       "      <th>dst_host_srv_count</th>\n",
       "      <th>dst_host_same_srv_rate</th>\n",
       "      <th>dst_host_diff_srv_rate</th>\n",
       "      <th>dst_host_same_src_port_rate</th>\n",
       "      <th>dst_host_srv_diff_host_rate</th>\n",
       "      <th>dst_host_serror_rate</th>\n",
       "      <th>dst_host_srv_serror_rate</th>\n",
       "      <th>dst_host_rerror_rate</th>\n",
       "      <th>dst_host_srv_rerror_rate</th>\n",
       "      <th>target</th>\n",
       "    </tr>\n",
       "  </thead>\n",
       "  <tbody>\n",
       "    <tr>\n",
       "      <th>0</th>\n",
       "      <td>0</td>\n",
       "      <td>tcp</td>\n",
       "      <td>http</td>\n",
       "      <td>SF</td>\n",
       "      <td>181</td>\n",
       "      <td>5450</td>\n",
       "      <td>0</td>\n",
       "      <td>0</td>\n",
       "      <td>0</td>\n",
       "      <td>0</td>\n",
       "      <td>...</td>\n",
       "      <td>9</td>\n",
       "      <td>1.0</td>\n",
       "      <td>0.0</td>\n",
       "      <td>0.11</td>\n",
       "      <td>0.0</td>\n",
       "      <td>0.0</td>\n",
       "      <td>0.0</td>\n",
       "      <td>0.0</td>\n",
       "      <td>0.0</td>\n",
       "      <td>normal.</td>\n",
       "    </tr>\n",
       "    <tr>\n",
       "      <th>1</th>\n",
       "      <td>0</td>\n",
       "      <td>tcp</td>\n",
       "      <td>http</td>\n",
       "      <td>SF</td>\n",
       "      <td>239</td>\n",
       "      <td>486</td>\n",
       "      <td>0</td>\n",
       "      <td>0</td>\n",
       "      <td>0</td>\n",
       "      <td>0</td>\n",
       "      <td>...</td>\n",
       "      <td>19</td>\n",
       "      <td>1.0</td>\n",
       "      <td>0.0</td>\n",
       "      <td>0.05</td>\n",
       "      <td>0.0</td>\n",
       "      <td>0.0</td>\n",
       "      <td>0.0</td>\n",
       "      <td>0.0</td>\n",
       "      <td>0.0</td>\n",
       "      <td>normal.</td>\n",
       "    </tr>\n",
       "    <tr>\n",
       "      <th>2</th>\n",
       "      <td>0</td>\n",
       "      <td>tcp</td>\n",
       "      <td>http</td>\n",
       "      <td>SF</td>\n",
       "      <td>235</td>\n",
       "      <td>1337</td>\n",
       "      <td>0</td>\n",
       "      <td>0</td>\n",
       "      <td>0</td>\n",
       "      <td>0</td>\n",
       "      <td>...</td>\n",
       "      <td>29</td>\n",
       "      <td>1.0</td>\n",
       "      <td>0.0</td>\n",
       "      <td>0.03</td>\n",
       "      <td>0.0</td>\n",
       "      <td>0.0</td>\n",
       "      <td>0.0</td>\n",
       "      <td>0.0</td>\n",
       "      <td>0.0</td>\n",
       "      <td>normal.</td>\n",
       "    </tr>\n",
       "    <tr>\n",
       "      <th>3</th>\n",
       "      <td>0</td>\n",
       "      <td>tcp</td>\n",
       "      <td>http</td>\n",
       "      <td>SF</td>\n",
       "      <td>219</td>\n",
       "      <td>1337</td>\n",
       "      <td>0</td>\n",
       "      <td>0</td>\n",
       "      <td>0</td>\n",
       "      <td>0</td>\n",
       "      <td>...</td>\n",
       "      <td>39</td>\n",
       "      <td>1.0</td>\n",
       "      <td>0.0</td>\n",
       "      <td>0.03</td>\n",
       "      <td>0.0</td>\n",
       "      <td>0.0</td>\n",
       "      <td>0.0</td>\n",
       "      <td>0.0</td>\n",
       "      <td>0.0</td>\n",
       "      <td>normal.</td>\n",
       "    </tr>\n",
       "    <tr>\n",
       "      <th>4</th>\n",
       "      <td>0</td>\n",
       "      <td>tcp</td>\n",
       "      <td>http</td>\n",
       "      <td>SF</td>\n",
       "      <td>217</td>\n",
       "      <td>2032</td>\n",
       "      <td>0</td>\n",
       "      <td>0</td>\n",
       "      <td>0</td>\n",
       "      <td>0</td>\n",
       "      <td>...</td>\n",
       "      <td>49</td>\n",
       "      <td>1.0</td>\n",
       "      <td>0.0</td>\n",
       "      <td>0.02</td>\n",
       "      <td>0.0</td>\n",
       "      <td>0.0</td>\n",
       "      <td>0.0</td>\n",
       "      <td>0.0</td>\n",
       "      <td>0.0</td>\n",
       "      <td>normal.</td>\n",
       "    </tr>\n",
       "  </tbody>\n",
       "</table>\n",
       "<p>5 rows × 42 columns</p>\n",
       "</div>"
      ],
      "text/plain": [
       "   duration protocol_type service flag  src_bytes  dst_bytes  land  \\\n",
       "0         0           tcp    http   SF        181       5450     0   \n",
       "1         0           tcp    http   SF        239        486     0   \n",
       "2         0           tcp    http   SF        235       1337     0   \n",
       "3         0           tcp    http   SF        219       1337     0   \n",
       "4         0           tcp    http   SF        217       2032     0   \n",
       "\n",
       "   wrong_fragment  urgent  hot  ...  dst_host_srv_count  \\\n",
       "0               0       0    0  ...                   9   \n",
       "1               0       0    0  ...                  19   \n",
       "2               0       0    0  ...                  29   \n",
       "3               0       0    0  ...                  39   \n",
       "4               0       0    0  ...                  49   \n",
       "\n",
       "   dst_host_same_srv_rate  dst_host_diff_srv_rate  \\\n",
       "0                     1.0                     0.0   \n",
       "1                     1.0                     0.0   \n",
       "2                     1.0                     0.0   \n",
       "3                     1.0                     0.0   \n",
       "4                     1.0                     0.0   \n",
       "\n",
       "   dst_host_same_src_port_rate  dst_host_srv_diff_host_rate  \\\n",
       "0                         0.11                          0.0   \n",
       "1                         0.05                          0.0   \n",
       "2                         0.03                          0.0   \n",
       "3                         0.03                          0.0   \n",
       "4                         0.02                          0.0   \n",
       "\n",
       "   dst_host_serror_rate  dst_host_srv_serror_rate  dst_host_rerror_rate  \\\n",
       "0                   0.0                       0.0                   0.0   \n",
       "1                   0.0                       0.0                   0.0   \n",
       "2                   0.0                       0.0                   0.0   \n",
       "3                   0.0                       0.0                   0.0   \n",
       "4                   0.0                       0.0                   0.0   \n",
       "\n",
       "   dst_host_srv_rerror_rate   target  \n",
       "0                       0.0  normal.  \n",
       "1                       0.0  normal.  \n",
       "2                       0.0  normal.  \n",
       "3                       0.0  normal.  \n",
       "4                       0.0  normal.  \n",
       "\n",
       "[5 rows x 42 columns]"
      ]
     },
     "execution_count": 5,
     "metadata": {},
     "output_type": "execute_result"
    }
   ],
   "source": [
    "info.head()"
   ]
  },
  {
   "cell_type": "code",
   "execution_count": 6,
   "metadata": {},
   "outputs": [
    {
     "data": {
      "text/plain": [
       "(125973, 42)"
      ]
     },
     "execution_count": 6,
     "metadata": {},
     "output_type": "execute_result"
    }
   ],
   "source": [
    "info.shape"
   ]
  },
  {
   "cell_type": "code",
   "execution_count": 7,
   "metadata": {},
   "outputs": [
    {
     "data": {
      "text/plain": [
       "duration                       0\n",
       "protocol_type                  0\n",
       "service                        0\n",
       "flag                           0\n",
       "src_bytes                      0\n",
       "dst_bytes                      0\n",
       "land                           0\n",
       "wrong_fragment                 0\n",
       "urgent                         0\n",
       "hot                            0\n",
       "num_failed_logins              0\n",
       "logged_in                      0\n",
       "num_compromised                0\n",
       "root_shell                     0\n",
       "su_attempted                   0\n",
       "num_root                       0\n",
       "num_file_creations             0\n",
       "num_shells                     0\n",
       "num_access_files               0\n",
       "num_outbound_cmds              0\n",
       "is_host_login                  0\n",
       "is_guest_login                 0\n",
       "count                          0\n",
       "srv_count                      0\n",
       "serror_rate                    0\n",
       "srv_serror_rate                0\n",
       "rerror_rate                    0\n",
       "srv_rerror_rate                0\n",
       "same_srv_rate                  0\n",
       "diff_srv_rate                  0\n",
       "srv_diff_host_rate             0\n",
       "dst_host_count                 0\n",
       "dst_host_srv_count             0\n",
       "dst_host_same_srv_rate         0\n",
       "dst_host_diff_srv_rate         0\n",
       "dst_host_same_src_port_rate    0\n",
       "dst_host_srv_diff_host_rate    0\n",
       "dst_host_serror_rate           0\n",
       "dst_host_srv_serror_rate       0\n",
       "dst_host_rerror_rate           0\n",
       "dst_host_srv_rerror_rate       0\n",
       "target                         0\n",
       "dtype: int64"
      ]
     },
     "execution_count": 7,
     "metadata": {},
     "output_type": "execute_result"
    }
   ],
   "source": [
    "info.isnull().sum()"
   ]
  },
  {
   "cell_type": "code",
   "execution_count": 8,
   "metadata": {},
   "outputs": [
    {
     "data": {
      "text/plain": [
       "array(['normal.', 'buffer_overflow.', 'loadmodule.', 'perl.', 'neptune.',\n",
       "       'smurf.', 'guess_passwd.', 'pod.', 'teardrop.', 'portsweep.',\n",
       "       'ipsweep.', 'land.', 'ftp_write.', 'back.', 'imap.', 'satan.',\n",
       "       'phf.', 'nmap.', 'multihop.', 'warezmaster.'], dtype=object)"
      ]
     },
     "execution_count": 8,
     "metadata": {},
     "output_type": "execute_result"
    }
   ],
   "source": [
    "info['target'].unique()"
   ]
  },
  {
   "cell_type": "code",
   "execution_count": 9,
   "metadata": {},
   "outputs": [
    {
     "data": {
      "text/plain": [
       "normal.             60720\n",
       "neptune.            38322\n",
       "smurf.              22753\n",
       "back.                2002\n",
       "ipsweep.              760\n",
       "satan.                540\n",
       "portsweep.            278\n",
       "nmap.                 231\n",
       "teardrop.             199\n",
       "guess_passwd.          53\n",
       "pod.                   40\n",
       "warezmaster.           20\n",
       "land.                  17\n",
       "imap.                  12\n",
       "ftp_write.              8\n",
       "multihop.               6\n",
       "buffer_overflow.        5\n",
       "phf.                    3\n",
       "loadmodule.             2\n",
       "perl.                   2\n",
       "Name: target, dtype: int64"
      ]
     },
     "execution_count": 9,
     "metadata": {},
     "output_type": "execute_result"
    }
   ],
   "source": [
    "info['target'].value_counts()"
   ]
  },
  {
   "cell_type": "code",
   "execution_count": 10,
   "metadata": {},
   "outputs": [],
   "source": [
    "X = info.iloc[:,:41].values"
   ]
  },
  {
   "cell_type": "code",
   "execution_count": 11,
   "metadata": {},
   "outputs": [
    {
     "name": "stdout",
     "output_type": "stream",
     "text": [
      "[[0 'tcp' 'http' ... 0.0 0.0 0.0]\n",
      " [0 'tcp' 'http' ... 0.0 0.0 0.0]\n",
      " [0 'tcp' 'http' ... 0.0 0.0 0.0]\n",
      " ...\n",
      " [0 'tcp' 'private' ... 1.0 0.0 0.0]\n",
      " [0 'tcp' 'private' ... 1.0 0.0 0.0]\n",
      " [0 'tcp' 'private' ... 1.0 0.0 0.0]]\n"
     ]
    }
   ],
   "source": [
    "print(X)"
   ]
  },
  {
   "cell_type": "code",
   "execution_count": 12,
   "metadata": {},
   "outputs": [],
   "source": [
    "Y = info.iloc[:,41].values"
   ]
  },
  {
   "cell_type": "code",
   "execution_count": 13,
   "metadata": {},
   "outputs": [],
   "source": [
    "diagram=pd.DataFrame({'attcks':Y})"
   ]
  },
  {
   "cell_type": "code",
   "execution_count": 14,
   "metadata": {},
   "outputs": [],
   "source": [
    "gg=dict()\n",
    "total=0\n",
    "for i in diagram['attcks']:\n",
    "    total+=1\n",
    "    gg[i]=gg.get(i,0)+1"
   ]
  },
  {
   "cell_type": "code",
   "execution_count": 15,
   "metadata": {},
   "outputs": [],
   "source": [
    "per=dict()\n",
    "for i in gg:\n",
    "    per[i]=round(gg[i]/total,4)"
   ]
  },
  {
   "cell_type": "code",
   "execution_count": 16,
   "metadata": {},
   "outputs": [
    {
     "name": "stdout",
     "output_type": "stream",
     "text": [
      "{'normal.': 0.482, 'buffer_overflow.': 0.0, 'loadmodule.': 0.0, 'perl.': 0.0, 'neptune.': 0.3042, 'smurf.': 0.1806, 'guess_passwd.': 0.0004, 'pod.': 0.0003, 'teardrop.': 0.0016, 'portsweep.': 0.0022, 'ipsweep.': 0.006, 'land.': 0.0001, 'ftp_write.': 0.0001, 'back.': 0.0159, 'imap.': 0.0001, 'satan.': 0.0043, 'phf.': 0.0, 'nmap.': 0.0018, 'multihop.': 0.0, 'warezmaster.': 0.0002}\n"
     ]
    }
   ],
   "source": [
    "print(per)"
   ]
  },
  {
   "cell_type": "code",
   "execution_count": 17,
   "metadata": {},
   "outputs": [],
   "source": [
    "aa=[]\n",
    "for i in per:\n",
    "    aa.append(per[i])\n",
    "    "
   ]
  },
  {
   "cell_type": "code",
   "execution_count": 18,
   "metadata": {},
   "outputs": [
    {
     "name": "stdout",
     "output_type": "stream",
     "text": [
      "[0.482, 0.0, 0.0, 0.0, 0.3042, 0.1806, 0.0004, 0.0003, 0.0016, 0.0022, 0.006, 0.0001, 0.0001, 0.0159, 0.0001, 0.0043, 0.0, 0.0018, 0.0, 0.0002]\n"
     ]
    }
   ],
   "source": [
    "print(aa)"
   ]
  },
  {
   "cell_type": "code",
   "execution_count": 19,
   "metadata": {},
   "outputs": [],
   "source": [
    "bb=per.keys()"
   ]
  },
  {
   "cell_type": "code",
   "execution_count": 20,
   "metadata": {},
   "outputs": [
    {
     "name": "stdout",
     "output_type": "stream",
     "text": [
      "dict_keys(['normal.', 'buffer_overflow.', 'loadmodule.', 'perl.', 'neptune.', 'smurf.', 'guess_passwd.', 'pod.', 'teardrop.', 'portsweep.', 'ipsweep.', 'land.', 'ftp_write.', 'back.', 'imap.', 'satan.', 'phf.', 'nmap.', 'multihop.', 'warezmaster.'])\n"
     ]
    }
   ],
   "source": [
    "print(bb)"
   ]
  },
  {
   "cell_type": "code",
   "execution_count": 21,
   "metadata": {},
   "outputs": [
    {
     "data": {
      "image/png": "[encoded data removed]",
      "text/plain": [
       "<Figure size 720x720 with 1 Axes>"
      ]
     },
     "metadata": {},
     "output_type": "display_data"
    }
   ],
   "source": [
    "import matplotlib.pyplot as plt\n",
    "\n",
    "\n",
    "labels = [ i for i in bb]\n",
    "\n",
    "fig1, ax1 = plt.subplots(figsize=(10, 10))\n",
    "fig1.subplots_adjust(0.3,0,1,1)\n",
    "\n",
    "\n",
    "theme = plt.get_cmap('Greens')\n",
    "ax1.set_prop_cycle(\"color\", [theme(1. * i / len(aa)) for i in range(len(aa))])\n",
    "\n",
    "_, _ = ax1.pie(aa, startangle=90)\n",
    "\n",
    "ax1.axis('equal')\n",
    "\n",
    "total = sum(aa)\n",
    "plt.legend(\n",
    "    loc='upper left',\n",
    "    labels=['%s, %1.1f%%' % (\n",
    "        l, (float(s) / total) * 100) for l, s in zip(labels, aa)],\n",
    "    prop={'size': 13},\n",
    "    bbox_to_anchor=(0.0, 1),\n",
    "    bbox_transform=fig1.transFigure\n",
    ")\n",
    "\n",
    "plt.show()"
   ]
  },
  {
   "cell_type": "code",
   "execution_count": 22,
   "metadata": {},
   "outputs": [
    {
     "data": {
      "image/png": "[encoded data removed]",
      "text/plain": [
       "<Figure size 1440x1152 with 1 Axes>"
      ]
     },
     "metadata": {},
     "output_type": "display_data"
    }
   ],
   "source": [
    "import seaborn as sns\n",
    "sns.set(style=\"ticks\")\n",
    "\n",
    "\n",
    "plt.figure(figsize=(20,16))\n",
    "\n",
    "x_t=[5,10,20,60,200,400,800,1200,2500,4000,20000,40000,60000,9000]\n",
    "\n",
    "ax=sns.countplot(y='attcks',data=diagram)"
   ]
  },
  {
   "cell_type": "code",
   "execution_count": 23,
   "metadata": {},
   "outputs": [],
   "source": [
    "#labelencoder used to convert objects to numerical values\n",
    "# 1st, 2nd, 3rd and target colums 42nd\n",
    "labelencoder_X = LabelEncoder()\n",
    "X[:,1] = labelencoder_X.fit_transform(X[:,1])\n",
    "X[:,2] = labelencoder_X.fit_transform(X[:,2])\n",
    "X[:,3] = labelencoder_X.fit_transform(X[:,3])"
   ]
  },
  {
   "cell_type": "code",
   "execution_count": 24,
   "metadata": {},
   "outputs": [],
   "source": [
    "labelencoder_Y = LabelEncoder()\n",
    "Y = labelencoder_Y.fit_transform(Y)"
   ]
  },
  {
   "cell_type": "code",
   "execution_count": 25,
   "metadata": {},
   "outputs": [
    {
     "name": "stdout",
     "output_type": "stream",
     "text": [
      "20\n"
     ]
    }
   ],
   "source": [
    "# Calculation Type of Categories Or labels\n",
    "s = set()\n",
    "for x in Y:\n",
    "    s.add(x)\n",
    "print(len(s))"
   ]
  },
  {
   "cell_type": "code",
   "execution_count": 26,
   "metadata": {},
   "outputs": [
    {
     "name": "stdout",
     "output_type": "stream",
     "text": [
      "[0 ,1 ,2 ,3 ,4 ,5 ,6 ,7 ,8 ,9 ,10 ,11 ,12 ,13 ,14 ,15 ,16 ,17 ,18 ,19 ,]\n"
     ]
    }
   ],
   "source": [
    "print('[',end = \"\")\n",
    "for i in s:\n",
    "    print(i,\",\",end = \"\")\n",
    "print(']')"
   ]
  },
  {
   "cell_type": "code",
   "execution_count": 27,
   "metadata": {},
   "outputs": [
    {
     "name": "stdout",
     "output_type": "stream",
     "text": [
      "different types in column 1 = 3\n",
      "different types in column 2 = 63\n",
      "different types in column 3 = 11\n"
     ]
    }
   ],
   "source": [
    "# Different types of objects in columns 1,2,3\n",
    "typ = []\n",
    "for i in range(1,4):\n",
    "    s = set()\n",
    "    for i in X[:,i]:\n",
    "        s.add(i)\n",
    "    typ.append(len(s))\n",
    "\n",
    "for i in range(len(typ)):\n",
    "    print('different types in column',i+1,'=',typ[i])"
   ]
  },
  {
   "cell_type": "code",
   "execution_count": 28,
   "metadata": {},
   "outputs": [],
   "source": [
    "one=OneHotEncoder(categorical_features=[1,2,3])"
   ]
  },
  {
   "cell_type": "code",
   "execution_count": 29,
   "metadata": {},
   "outputs": [
    {
     "name": "stderr",
     "output_type": "stream",
     "text": [
      "/opt/conda/lib/python3.6/site-packages/sklearn/preprocessing/_encoders.py:415: FutureWarning: The handling of integer data will change in version 0.22. Currently, the categories are determined based on the range [0, max(values)], while in the future they will be determined based on the unique values.\n",
      "If you want the future behaviour and silence this warning, you can specify \"categories='auto'\".\n",
      "In case you used a LabelEncoder before this OneHotEncoder to convert the categories to integers, then you can now use the OneHotEncoder directly.\n",
      "  warnings.warn(msg, FutureWarning)\n",
      "/opt/conda/lib/python3.6/site-packages/sklearn/preprocessing/_encoders.py:451: DeprecationWarning: The 'categorical_features' keyword is deprecated in version 0.20 and will be removed in 0.22. You can use the ColumnTransformer instead.\n",
      "  \"use the ColumnTransformer instead.\", DeprecationWarning)\n"
     ]
    }
   ],
   "source": [
    "X=one.fit_transform(X).toarray()"
   ]
  },
  {
   "cell_type": "code",
   "execution_count": 30,
   "metadata": {},
   "outputs": [],
   "source": [
    "from sklearn.metrics import precision_score,recall_score,f1_score\n",
    "from sklearn.metrics import multilabel_confusion_matrix\n",
    "from sklearn.model_selection import train_test_split\n",
    "from sklearn.svm import LinearSVC\n",
    "from sklearn.neighbors import KNeighborsClassifier\n",
    "from sklearn.naive_bayes import MultinomialNB, GaussianNB\n",
    "from sklearn.metrics import accuracy_score, classification_report, confusion_matrix\n",
    "from sklearn.linear_model import LogisticRegression, SGDClassifier\n",
    "from sklearn.tree import DecisionTreeClassifier\n",
    "from sklearn.ensemble import RandomForestClassifier\n",
    "\n",
    "def linsvc(x,y):\n",
    "    x_train, x_test, y_train, y_test = train_test_split(x, y, test_size=0.25, random_state = 10)\n",
    "    classf = LinearSVC()\n",
    "    classf.fit(x_train, y_train)\n",
    "    pred = classf.predict(x_test)\n",
    "    print(\"Linear SVC accuracy_score:\",accuracy_score(y_test, pred))\n",
    "    print(\"Linear SVC precision_score:\",precision_score(y_test, pred, average='weighted'))\n",
    "    print(\"Linear SVC recall_score:\",recall_score(y_test, pred, average='weighted'))\n",
    "    print(\"Linear SVC f1_score:\",f1_score(y_test, pred, average='weighted'))\n",
    "    print ('Confusion matrix for Linear Support Vector classifier')\n",
    "    print(multilabel_confusion_matrix(y_test, pred, labels=[i for i in range(20)]))\n",
    "    \n",
    "    return(y_test, pred)\n",
    "\n",
    "def revknn(x,y):\n",
    "    x_train, x_test, y_train, y_test = train_test_split(x, y, test_size=0.25, random_state = 10)\n",
    "    classf = KNeighborsClassifier(n_neighbors=2)\n",
    "    classf.fit(x_train, y_train)\n",
    "    pred = classf.predict(x_test)\n",
    "    print(\"Knn accuracy_score:\",accuracy_score(y_test, pred))\n",
    "    print(\"Knn precision_score:\",precision_score(y_test, pred,average='weighted'))\n",
    "    print(\"Knn recall_score:\",recall_score(y_test, pred, average='weighted'))\n",
    "    print(\"Knn f1_score:\",f1_score(y_test, pred, average='weighted'))\n",
    "    print ('Confusion matrix for Knearest Kneighbours classifier')\n",
    "    print(multilabel_confusion_matrix(y_test, pred, labels=[i for i in range(20)]))\n",
    "    return(y_test, pred)\n",
    "\n",
    "def revnb(x,y):\n",
    "    x_train, x_test, y_train, y_test = train_test_split(x, y, test_size=0.25, random_state = 10)\n",
    "    classf = MultinomialNB()\n",
    "    classf.fit(x_train, y_train)\n",
    "    pred = classf.predict(x_test)\n",
    "    print(\"Naive Bayes accuracy_score:\",accuracy_score(y_test, pred))\n",
    "    print(\"Naive Bayes precision_score:\",precision_score(y_test, pred,average='weighted'))\n",
    "    print(\"Naive Bayes recall_score:\",recall_score(y_test, pred, average='weighted'))\n",
    "    print(\"Naive Bayes f1_score:\",f1_score(y_test, pred, average='weighted'))\n",
    "    print ('Confusion matrix for Naive Bayes classifier')\n",
    "    print(multilabel_confusion_matrix(y_test, pred, labels=[i for i in range(20)]))\n",
    "    \n",
    "    return(y_test, pred)\n",
    "\n",
    "def rfc(x,y):\n",
    "    x_train, x_test, y_train, y_test = train_test_split(x, y, test_size=0.25, random_state = 10)\n",
    "    classf = RandomForestClassifier(n_estimators=70, random_state=101, max_features = None)\n",
    "    classf.fit(x_train, y_train)\n",
    "    pred = classf.predict(x_test)\n",
    "    print(\"Random forest accuracy_score:\",accuracy_score(y_test, pred))\n",
    "    print(\"Random forest precision_score:\",precision_score(y_test, pred,average='weighted'))\n",
    "    print(\"Random forest recall_score:\",recall_score(y_test, pred, average='weighted'))\n",
    "    print(\"Random forest f1_score:\",f1_score(y_test, pred, average='weighted'))\n",
    "    print ('Confusion matrix for Random Forest classifier')\n",
    "    print(multilabel_confusion_matrix(y_test, pred, labels=[i for i in range(20)]))\n",
    "    return(y_test, pred)\n",
    "\n",
    "def lrc(x,y):\n",
    "    x_train, x_test, y_train, y_test = train_test_split(x, y, test_size=0.25, random_state = 10)\n",
    "    classf = LogisticRegression()\n",
    "    classf.fit(x_train, y_train)\n",
    "    pred = classf.predict(x_test)\n",
    "    print(\"logistic Regression accuracy_score:\",accuracy_score(y_test, pred))\n",
    "    print(\"logistic Regression precision_score:\",precision_score(y_test, pred,average='weighted'))\n",
    "    print(\"logistic Regression recall_score:\",recall_score(y_test, pred,average='weighted'))\n",
    "    print(\"logistic Regression f1_score:\",f1_score(y_test, pred, average='weighted'))\n",
    "    print ('Confusion matrix for Logistic Regression')\n",
    "    print(multilabel_confusion_matrix(y_test, pred, labels=[i for i in range(20)]))\n",
    "\n",
    "    return(y_test, pred)\n",
    "\n",
    "def dtc(x,y):\n",
    "    x_train, x_test, y_train, y_test = train_test_split(x, y, test_size=0.25, random_state = 10)\n",
    "    classf = DecisionTreeClassifier(max_depth = 10, random_state=101,max_features = None)\n",
    "    classf.fit(x_train, y_train)\n",
    "    pred = classf.predict(x_test)\n",
    "    print(\"Decison tree classifier accuracy_score:\",accuracy_score(y_test, pred))\n",
    "    print(\"Decison tree classifier precision_score:\",precision_score(y_test, pred,average='weighted'))\n",
    "    print(\"Decison tree classifier recall_score:\",recall_score(y_test, pred, average='weighted'))\n",
    "    print(\"Decison tree classifier f1_score:\",f1_score(y_test, pred, average='weighted'))\n",
    "    print ('Confusion matrix for Decision Tree classifier')\n",
    "    print(multilabel_confusion_matrix(y_test, pred, labels=[i for i in range(20)]))\n",
    "    return(y_test, pred)\n",
    "\n",
    "def sgd(x,y):\n",
    "    x_train, x_test, y_train, y_test = train_test_split(x, y, test_size=0.25, random_state = 10)\n",
    "    classf = SGDClassifier(loss='modified_huber',shuffle = True,random_state=101)\n",
    "    classf.fit(x_train, y_train)\n",
    "    pred = classf.predict(x_test)\n",
    "    print(\"sgd classifier accuracy_score:\",accuracy_score(y_test, pred))\n",
    "    print(\"sgd classifier precision_score:\",precision_score(y_test, pred,average='weighted'))\n",
    "    print(\"sgd classifier recall_score:\",recall_score(y_test, pred, average='weighted'))\n",
    "    print(\"sgd classifier f1_score:\",f1_score(y_test, pred, average='weighted'))\n",
    "    print ('Confusion matrix for Stochastic Gradient Descent classifier')\n",
    "    print(multilabel_confusion_matrix(y_test, pred, labels=[i for i in range(20)]))\n",
    "    \n",
    "    return(y_test, pred)\n"
   ]
  },
  {
   "cell_type": "code",
   "execution_count": 31,
   "metadata": {},
   "outputs": [
    {
     "name": "stdout",
     "output_type": "stream",
     "text": [
      "Knn accuracy_score: 0.9969518003429224\n",
      "Knn precision_score: 0.9969577332215842\n",
      "Knn recall_score: 0.9969518003429224\n",
      "Knn f1_score: 0.9968905678384402\n",
      "Confusion matrix for Knearest Kneighbours classifier\n",
      "[[[30964     1]\n",
      "  [    1   528]]\n",
      "\n",
      " [[31492     0]\n",
      "  [    1     1]]\n",
      "\n",
      " [[31488     2]\n",
      "  [    3     1]]\n",
      "\n",
      " [[31475     3]\n",
      "  [    1    15]]\n",
      "\n",
      " [[31490     1]\n",
      "  [    1     2]]\n",
      "\n",
      " [[31284    30]\n",
      "  [    9   171]]\n",
      "\n",
      " [[31489     0]\n",
      "  [    0     5]]\n",
      "\n",
      " [[31493     1]\n",
      "  [    0     0]]\n",
      "\n",
      " [[31489     3]\n",
      "  [    1     1]]\n",
      "\n",
      " [[21933    19]\n",
      "  [    1  9541]]\n",
      "\n",
      " [[31413    17]\n",
      "  [   31    33]]\n",
      "\n",
      " [[16253    16]\n",
      "  [   20 15205]]\n",
      "\n",
      " [[31494     0]\n",
      "  [    0     0]]\n",
      "\n",
      " [[31493     0]\n",
      "  [    0     1]]\n",
      "\n",
      " [[31486     0]\n",
      "  [    0     8]]\n",
      "\n",
      " [[31412     3]\n",
      "  [   12    67]]\n",
      "\n",
      " [[31353     0]\n",
      "  [   14   127]]\n",
      "\n",
      " [[25860     0]\n",
      "  [    0  5634]]\n",
      "\n",
      " [[31441     0]\n",
      "  [    1    52]]\n",
      "\n",
      " [[31488     0]\n",
      "  [    0     6]]]\n"
     ]
    },
    {
     "name": "stderr",
     "output_type": "stream",
     "text": [
      "/opt/conda/lib/python3.6/site-packages/sklearn/metrics/classification.py:1439: UndefinedMetricWarning: Recall is ill-defined and being set to 0.0 in labels with no true samples.\n",
      "  'recall', 'true', average, warn_for)\n",
      "/opt/conda/lib/python3.6/site-packages/sklearn/metrics/classification.py:1439: UndefinedMetricWarning: F-score is ill-defined and being set to 0.0 in labels with no true samples.\n",
      "  'recall', 'true', average, warn_for)\n"
     ]
    }
   ],
   "source": [
    "knny1,knnp1 = revknn(X,Y)"
   ]
  },
  {
   "cell_type": "code",
   "execution_count": 32,
   "metadata": {},
   "outputs": [],
   "source": [
    "knn_1=labelencoder_Y.inverse_transform(knnp1)\n",
    "knn_2=labelencoder_Y.inverse_transform(knny1)"
   ]
  },
  {
   "cell_type": "code",
   "execution_count": 33,
   "metadata": {},
   "outputs": [
    {
     "name": "stdout",
     "output_type": "stream",
     "text": [
      "Linear SVC accuracy_score: 0.9568171715247349\n",
      "Linear SVC precision_score: 0.9789422726922388\n",
      "Linear SVC recall_score: 0.9568171715247349\n",
      "Linear SVC f1_score: 0.9651436648604966\n",
      "Confusion matrix for Linear Support Vector classifier\n",
      "[[[30965     0]\n",
      "  [  529     0]]\n",
      "\n",
      " [[31492     0]\n",
      "  [    2     0]]\n",
      "\n",
      " [[31455    35]\n",
      "  [    3     1]]\n",
      "\n",
      " [[31447    31]\n",
      "  [    0    16]]\n",
      "\n",
      " [[31476    15]\n",
      "  [    1     2]]\n",
      "\n",
      " [[31314     0]\n",
      "  [  149    31]]\n",
      "\n",
      " [[31489     0]\n",
      "  [    0     5]]\n",
      "\n",
      " [[31494     0]\n",
      "  [    0     0]]\n",
      "\n",
      " [[31492     0]\n",
      "  [    2     0]]\n",
      "\n",
      " [[21948     4]\n",
      "  [    0  9542]]\n",
      "\n",
      " [[30189  1241]\n",
      "  [    8    56]]\n",
      "\n",
      " [[16244    25]\n",
      "  [  617 14608]]\n",
      "\n",
      " [[31494     0]\n",
      "  [    0     0]]\n",
      "\n",
      " [[31493     0]\n",
      "  [    1     0]]\n",
      "\n",
      " [[31486     0]\n",
      "  [    8     0]]\n",
      "\n",
      " [[31409     6]\n",
      "  [    4    75]]\n",
      "\n",
      " [[31353     0]\n",
      "  [    3   138]]\n",
      "\n",
      " [[25859     1]\n",
      "  [   27  5607]]\n",
      "\n",
      " [[31441     0]\n",
      "  [    0    53]]\n",
      "\n",
      " [[31486     2]\n",
      "  [    6     0]]]\n"
     ]
    },
    {
     "name": "stderr",
     "output_type": "stream",
     "text": [
      "/opt/conda/lib/python3.6/site-packages/sklearn/svm/base.py:929: ConvergenceWarning: Liblinear failed to converge, increase the number of iterations.\n",
      "  \"the number of iterations.\", ConvergenceWarning)\n",
      "/opt/conda/lib/python3.6/site-packages/sklearn/metrics/classification.py:1437: UndefinedMetricWarning: Precision is ill-defined and being set to 0.0 in labels with no predicted samples.\n",
      "  'precision', 'predicted', average, warn_for)\n",
      "/opt/conda/lib/python3.6/site-packages/sklearn/metrics/classification.py:1437: UndefinedMetricWarning: F-score is ill-defined and being set to 0.0 in labels with no predicted samples.\n",
      "  'precision', 'predicted', average, warn_for)\n"
     ]
    }
   ],
   "source": [
    "svc11,svc21 = linsvc(X,Y)"
   ]
  },
  {
   "cell_type": "code",
   "execution_count": 34,
   "metadata": {},
   "outputs": [],
   "source": [
    "svc_1=labelencoder_Y.inverse_transform(svc21)\n",
    "svc_2=labelencoder_Y.inverse_transform(svc11)"
   ]
  },
  {
   "cell_type": "code",
   "execution_count": 35,
   "metadata": {},
   "outputs": [
    {
     "name": "stdout",
     "output_type": "stream",
     "text": [
      "Naive Bayes accuracy_score: 0.644789483711183\n",
      "Naive Bayes precision_score: 0.9773660739695889\n",
      "Naive Bayes recall_score: 0.644789483711183\n",
      "Naive Bayes f1_score: 0.7080315973540423\n",
      "Confusion matrix for Naive Bayes classifier\n",
      "[[[30290   675]\n",
      "  [    0   529]]\n",
      "\n",
      " [[31472    20]\n",
      "  [    0     2]]\n",
      "\n",
      " [[31145   345]\n",
      "  [    4     0]]\n",
      "\n",
      " [[26063  5415]\n",
      "  [    1    15]]\n",
      "\n",
      " [[31247   244]\n",
      "  [    3     0]]\n",
      "\n",
      " [[30839   475]\n",
      "  [   21   159]]\n",
      "\n",
      " [[31472    17]\n",
      "  [    0     5]]\n",
      "\n",
      " [[31437    57]\n",
      "  [    0     0]]\n",
      "\n",
      " [[31483     9]\n",
      "  [    2     0]]\n",
      "\n",
      " [[21937    15]\n",
      "  [   19  9523]]\n",
      "\n",
      " [[30604   826]\n",
      "  [   33    31]]\n",
      "\n",
      " [[16269     0]\n",
      "  [11007  4218]]\n",
      "\n",
      " [[31460    34]\n",
      "  [    0     0]]\n",
      "\n",
      " [[29096  2397]\n",
      "  [    0     1]]\n",
      "\n",
      " [[31140   346]\n",
      "  [    0     8]]\n",
      "\n",
      " [[31353    62]\n",
      "  [   79     0]]\n",
      "\n",
      " [[31347     6]\n",
      "  [   17   124]]\n",
      "\n",
      " [[25825    35]\n",
      "  [    0  5634]]\n",
      "\n",
      " [[31237   204]\n",
      "  [    1    52]]\n",
      "\n",
      " [[31483     5]\n",
      "  [    0     6]]]\n"
     ]
    },
    {
     "name": "stderr",
     "output_type": "stream",
     "text": [
      "/opt/conda/lib/python3.6/site-packages/sklearn/metrics/classification.py:1439: UndefinedMetricWarning: Recall is ill-defined and being set to 0.0 in labels with no true samples.\n",
      "  'recall', 'true', average, warn_for)\n",
      "/opt/conda/lib/python3.6/site-packages/sklearn/metrics/classification.py:1439: UndefinedMetricWarning: F-score is ill-defined and being set to 0.0 in labels with no true samples.\n",
      "  'recall', 'true', average, warn_for)\n"
     ]
    }
   ],
   "source": [
    "nb1,nb21 = revnb(X,Y)"
   ]
  },
  {
   "cell_type": "code",
   "execution_count": 36,
   "metadata": {},
   "outputs": [],
   "source": [
    "nb_1=labelencoder_Y.inverse_transform(nb21)\n",
    "nb_2=labelencoder_Y.inverse_transform(nb1)"
   ]
  },
  {
   "cell_type": "code",
   "execution_count": 37,
   "metadata": {},
   "outputs": [
    {
     "name": "stdout",
     "output_type": "stream",
     "text": [
      "Random forest accuracy_score: 0.9994602146440592\n",
      "Random forest precision_score: 0.9994672857941749\n",
      "Random forest recall_score: 0.9994602146440592\n",
      "Random forest f1_score: 0.9994394615014264\n",
      "Confusion matrix for Random Forest classifier\n",
      "[[[30965     0]\n",
      "  [    0   529]]\n",
      "\n",
      " [[31492     0]\n",
      "  [    1     1]]\n",
      "\n",
      " [[31490     0]\n",
      "  [    2     2]]\n",
      "\n",
      " [[31478     0]\n",
      "  [    1    15]]\n",
      "\n",
      " [[31491     0]\n",
      "  [    0     3]]\n",
      "\n",
      " [[31313     1]\n",
      "  [    4   176]]\n",
      "\n",
      " [[31489     0]\n",
      "  [    0     5]]\n",
      "\n",
      " [[31494     0]\n",
      "  [    0     0]]\n",
      "\n",
      " [[31492     0]\n",
      "  [    1     1]]\n",
      "\n",
      " [[21951     1]\n",
      "  [    0  9542]]\n",
      "\n",
      " [[31427     3]\n",
      "  [    1    63]]\n",
      "\n",
      " [[16258    11]\n",
      "  [    3 15222]]\n",
      "\n",
      " [[31494     0]\n",
      "  [    0     0]]\n",
      "\n",
      " [[31493     0]\n",
      "  [    0     1]]\n",
      "\n",
      " [[31486     0]\n",
      "  [    0     8]]\n",
      "\n",
      " [[31415     0]\n",
      "  [    0    79]]\n",
      "\n",
      " [[31353     0]\n",
      "  [    3   138]]\n",
      "\n",
      " [[25860     0]\n",
      "  [    0  5634]]\n",
      "\n",
      " [[31441     0]\n",
      "  [    1    52]]\n",
      "\n",
      " [[31487     1]\n",
      "  [    0     6]]]\n"
     ]
    }
   ],
   "source": [
    "rfc1,rfc21 = rfc(X,Y)"
   ]
  },
  {
   "cell_type": "code",
   "execution_count": 38,
   "metadata": {},
   "outputs": [],
   "source": [
    "rfc_1=labelencoder_Y.inverse_transform(rfc21)\n",
    "rfc_2=labelencoder_Y.inverse_transform(rfc1)\n"
   ]
  },
  {
   "cell_type": "code",
   "execution_count": 39,
   "metadata": {},
   "outputs": [
    {
     "name": "stderr",
     "output_type": "stream",
     "text": [
      "/opt/conda/lib/python3.6/site-packages/sklearn/linear_model/logistic.py:432: FutureWarning: Default solver will be changed to 'lbfgs' in 0.22. Specify a solver to silence this warning.\n",
      "  FutureWarning)\n",
      "/opt/conda/lib/python3.6/site-packages/sklearn/linear_model/logistic.py:469: FutureWarning: Default multi_class will be changed to 'auto' in 0.22. Specify the multi_class option to silence this warning.\n",
      "  \"this warning.\", FutureWarning)\n"
     ]
    },
    {
     "name": "stdout",
     "output_type": "stream",
     "text": [
      "logistic Regression accuracy_score: 0.9736457737981837\n",
      "logistic Regression precision_score: 0.9693297196421832\n",
      "logistic Regression recall_score: 0.9736457737981837\n",
      "logistic Regression f1_score: 0.9671320231258159\n",
      "Confusion matrix for Logistic Regression\n",
      "[[[30857   108]\n",
      "  [  327   202]]\n",
      "\n",
      " [[31492     0]\n",
      "  [    2     0]]\n",
      "\n",
      " [[31490     0]\n",
      "  [    3     1]]\n",
      "\n",
      " [[31478     0]\n",
      "  [    0    16]]\n",
      "\n",
      " [[31491     0]\n",
      "  [    3     0]]\n",
      "\n",
      " [[31314     0]\n",
      "  [  176     4]]\n",
      "\n",
      " [[31489     0]\n",
      "  [    0     5]]\n",
      "\n",
      " [[31494     0]\n",
      "  [    0     0]]\n",
      "\n",
      " [[31492     0]\n",
      "  [    2     0]]\n",
      "\n",
      " [[21796   156]\n",
      "  [    1  9541]]\n",
      "\n",
      " [[31430     0]\n",
      "  [   60     4]]\n",
      "\n",
      " [[15721   548]\n",
      "  [  127 15098]]\n",
      "\n",
      " [[31494     0]\n",
      "  [    0     0]]\n",
      "\n",
      " [[31493     0]\n",
      "  [    1     0]]\n",
      "\n",
      " [[31486     0]\n",
      "  [    7     1]]\n",
      "\n",
      " [[31405    10]\n",
      "  [   79     0]]\n",
      "\n",
      " [[31353     0]\n",
      "  [   21   120]]\n",
      "\n",
      " [[25853     7]\n",
      "  [   19  5615]]\n",
      "\n",
      " [[31441     0]\n",
      "  [    2    51]]\n",
      "\n",
      " [[31487     1]\n",
      "  [    0     6]]]\n"
     ]
    },
    {
     "name": "stderr",
     "output_type": "stream",
     "text": [
      "/opt/conda/lib/python3.6/site-packages/sklearn/svm/base.py:929: ConvergenceWarning: Liblinear failed to converge, increase the number of iterations.\n",
      "  \"the number of iterations.\", ConvergenceWarning)\n",
      "/opt/conda/lib/python3.6/site-packages/sklearn/metrics/classification.py:1437: UndefinedMetricWarning: Precision is ill-defined and being set to 0.0 in labels with no predicted samples.\n",
      "  'precision', 'predicted', average, warn_for)\n",
      "/opt/conda/lib/python3.6/site-packages/sklearn/metrics/classification.py:1437: UndefinedMetricWarning: F-score is ill-defined and being set to 0.0 in labels with no predicted samples.\n",
      "  'precision', 'predicted', average, warn_for)\n"
     ]
    }
   ],
   "source": [
    "lrc11,lrc21 = lrc(X,Y)"
   ]
  },
  {
   "cell_type": "code",
   "execution_count": 40,
   "metadata": {},
   "outputs": [],
   "source": [
    "lrc_1=labelencoder_Y.inverse_transform(lrc21)\n",
    "lrc_2=labelencoder_Y.inverse_transform(lrc11)"
   ]
  },
  {
   "cell_type": "code",
   "execution_count": 41,
   "metadata": {},
   "outputs": [
    {
     "name": "stdout",
     "output_type": "stream",
     "text": [
      "Decison tree classifier accuracy_score: 0.9986664126500285\n",
      "Decison tree classifier precision_score: 0.9982924519754026\n",
      "Decison tree classifier recall_score: 0.9986664126500285\n",
      "Decison tree classifier f1_score: 0.9984691799561359\n",
      "Confusion matrix for Decision Tree classifier\n",
      "[[[30965     0]\n",
      "  [    0   529]]\n",
      "\n",
      " [[31492     0]\n",
      "  [    2     0]]\n",
      "\n",
      " [[31490     0]\n",
      "  [    4     0]]\n",
      "\n",
      " [[31478     0]\n",
      "  [    1    15]]\n",
      "\n",
      " [[31491     0]\n",
      "  [    3     0]]\n",
      "\n",
      " [[31313     1]\n",
      "  [    7   173]]\n",
      "\n",
      " [[31489     0]\n",
      "  [    1     4]]\n",
      "\n",
      " [[31494     0]\n",
      "  [    0     0]]\n",
      "\n",
      " [[31492     0]\n",
      "  [    2     0]]\n",
      "\n",
      " [[21951     1]\n",
      "  [    1  9541]]\n",
      "\n",
      " [[31426     4]\n",
      "  [    1    63]]\n",
      "\n",
      " [[16233    36]\n",
      "  [    3 15222]]\n",
      "\n",
      " [[31494     0]\n",
      "  [    0     0]]\n",
      "\n",
      " [[31493     0]\n",
      "  [    1     0]]\n",
      "\n",
      " [[31486     0]\n",
      "  [    0     8]]\n",
      "\n",
      " [[31415     0]\n",
      "  [    0    79]]\n",
      "\n",
      " [[31353     0]\n",
      "  [    9   132]]\n",
      "\n",
      " [[25860     0]\n",
      "  [    7  5627]]\n",
      "\n",
      " [[31441     0]\n",
      "  [    0    53]]\n",
      "\n",
      " [[31488     0]\n",
      "  [    0     6]]]\n"
     ]
    },
    {
     "name": "stderr",
     "output_type": "stream",
     "text": [
      "/opt/conda/lib/python3.6/site-packages/sklearn/metrics/classification.py:1437: UndefinedMetricWarning: Precision is ill-defined and being set to 0.0 in labels with no predicted samples.\n",
      "  'precision', 'predicted', average, warn_for)\n",
      "/opt/conda/lib/python3.6/site-packages/sklearn/metrics/classification.py:1437: UndefinedMetricWarning: F-score is ill-defined and being set to 0.0 in labels with no predicted samples.\n",
      "  'precision', 'predicted', average, warn_for)\n"
     ]
    }
   ],
   "source": [
    "dtc11,dtc21 = dtc(X,Y)"
   ]
  },
  {
   "cell_type": "code",
   "execution_count": 42,
   "metadata": {},
   "outputs": [],
   "source": [
    "dtc_1=labelencoder_Y.inverse_transform(dtc21)\n",
    "dtc_2=labelencoder_Y.inverse_transform(dtc11)"
   ]
  },
  {
   "cell_type": "code",
   "execution_count": 43,
   "metadata": {},
   "outputs": [
    {
     "name": "stdout",
     "output_type": "stream",
     "text": [
      "sgd classifier accuracy_score: 0.42814504350034926\n",
      "sgd classifier precision_score: 0.6665505692005618\n",
      "sgd classifier recall_score: 0.42814504350034926\n",
      "sgd classifier f1_score: 0.5066624238799421\n",
      "Confusion matrix for Stochastic Gradient Descent classifier\n",
      "[[[30965     0]\n",
      "  [  529     0]]\n",
      "\n",
      " [[31492     0]\n",
      "  [    2     0]]\n",
      "\n",
      " [[31490     0]\n",
      "  [    4     0]]\n",
      "\n",
      " [[31478     0]\n",
      "  [   16     0]]\n",
      "\n",
      " [[31491     0]\n",
      "  [    3     0]]\n",
      "\n",
      " [[22148  9166]\n",
      "  [  175     5]]\n",
      "\n",
      " [[29958  1531]\n",
      "  [    5     0]]\n",
      "\n",
      " [[31494     0]\n",
      "  [    0     0]]\n",
      "\n",
      " [[31492     0]\n",
      "  [    2     0]]\n",
      "\n",
      " [[21952     0]\n",
      "  [ 5121  4421]]\n",
      "\n",
      " [[31430     0]\n",
      "  [   64     0]]\n",
      "\n",
      " [[10838  5431]\n",
      "  [11940  3285]]\n",
      "\n",
      " [[31494     0]\n",
      "  [    0     0]]\n",
      "\n",
      " [[31493     0]\n",
      "  [    1     0]]\n",
      "\n",
      " [[31486     0]\n",
      "  [    8     0]]\n",
      "\n",
      " [[29692  1723]\n",
      "  [   79     0]]\n",
      "\n",
      " [[31353     0]\n",
      "  [   25   116]]\n",
      "\n",
      " [[25776    84]\n",
      "  [   23  5611]]\n",
      "\n",
      " [[31366    75]\n",
      "  [    7    46]]\n",
      "\n",
      " [[31488     0]\n",
      "  [    6     0]]]\n"
     ]
    },
    {
     "name": "stderr",
     "output_type": "stream",
     "text": [
      "/opt/conda/lib/python3.6/site-packages/sklearn/metrics/classification.py:1437: UndefinedMetricWarning: Precision is ill-defined and being set to 0.0 in labels with no predicted samples.\n",
      "  'precision', 'predicted', average, warn_for)\n",
      "/opt/conda/lib/python3.6/site-packages/sklearn/metrics/classification.py:1437: UndefinedMetricWarning: F-score is ill-defined and being set to 0.0 in labels with no predicted samples.\n",
      "  'precision', 'predicted', average, warn_for)\n"
     ]
    }
   ],
   "source": [
    "sgd11,sgd21 = sgd(X,Y)"
   ]
  },
  {
   "cell_type": "code",
   "execution_count": 44,
   "metadata": {},
   "outputs": [],
   "source": [
    "sgd_1=labelencoder_Y.inverse_transform(sgd21)\n",
    "sgd_2=labelencoder_Y.inverse_transform(sgd11) "
   ]
  },
  {
   "cell_type": "code",
   "execution_count": 45,
   "metadata": {},
   "outputs": [
    {
     "data": {
      "image/png": "[encoded data removed]",
      "text/plain": [
       "<Figure size 1080x504 with 1 Axes>"
      ]
     },
     "metadata": {},
     "output_type": "display_data"
    }
   ],
   "source": [
    "# Comparision among different classifiers's accuracies\n",
    "import matplotlib.pyplot as plt\n",
    "import seaborn as sns\n",
    "names = ['Linear SVC Classifier', 'K-Nearest Neighbours', 'Naive Bayes Classifier','Random Forest Classifier',\n",
    "        'Logistic Regression','Decision Tree Classifier','Gradient Descent Classfier']\n",
    "results = [0.745475,0.99695,0.646472,0.999491,0.971264,0.9986664,0.428281]\n",
    "plt.subplots(figsize=(15,7))\n",
    "sns.barplot(names,results,palette='hot',edgecolor=sns.color_palette('dark',7))\n",
    "plt.xticks(rotation=90)\n",
    "plt.xlabel('Classifiers Names') \n",
    "plt.ylabel('Accuracy')\n",
    "plt.title('Base Learners Accuracy Comparision')\n",
    "plt.show()"
   ]
  }
 ],
 "metadata": {
  "kernelspec": {
   "display_name": "Python 3",
   "language": "python",
   "name": "python3"
  },
  "language_info": {
   "codemirror_mode": {
    "name": "ipython",
    "version": 3
   },
   "file_extension": ".py",
   "mimetype": "text/x-python",
   "name": "python",
   "nbconvert_exporter": "python",
   "pygments_lexer": "ipython3",
   "version": "3.6.6"
  }
 },
 "nbformat": 4,
 "nbformat_minor": 1
}
